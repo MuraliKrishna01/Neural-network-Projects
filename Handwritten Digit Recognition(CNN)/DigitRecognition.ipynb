{
  "cells": [
    {
      "cell_type": "markdown",
      "metadata": {
        "id": "94uOltoAYZfx"
      },
      "source": [
        "# Handwritten Digit Recognition using Convolutional Neural Networks\n",
        "\n",
        "After learning how Convolutional Neural Networks (CNNs) operate, I implemented a deep learning model for handwritten digit recognition, using the MNIST dataset, to understand and apply CNNs to a classic image recognition task.\n",
        "\n",
        "The MNIST dataset is the “hello world” of deep learning image classification, comprising 28x28-pixel grayscale images of handwritten digits, totaling 784 pixels per image. The data is split into 60,000 training images and 10,000 testing images, allowing for effective model evaluation.\n",
        "\n",
        "In this project, CNNs automatically learn features from the image data through layers of convolution and pooling, capturing patterns specific to each digit. This model classifies 10 digits (0-9), making it a multi-class classification task. I used softmax activation in the final layer to output probabilities across these 10 classes.\n",
        "\n",
        "**Statistics Concepts Applied:**\n",
        "\n",
        "**Normalization**: To improve model performance, each pixel value is scaled to a [0, 1] range, converting raw pixel intensities into a normalized distribution. This standardization makes training faster and more stable.\n",
        "\n",
        "**Cross-Entropy Loss:** To quantify model accuracy, cross-entropy loss is used as it measures the distance between the predicted probabilities and the actual labels, effectively penalizing incorrect predictions.\n",
        "\n",
        "**Accuracy Metric:** Classification accuracy is the primary metric, defined as the ratio of correct predictions over total predictions. I report accuracy as well as prediction error, where prediction error = 1 - accuracy, to provide insights into the model's misclassification rate.\n",
        "\n",
        "By leveraging CNNs with these statistical techniques, the model achieves near state-of-the-art performance in handwritten digit recognition, showcasing the power of deep learning in object recognition tasks."
      ]
    },
    {
      "cell_type": "markdown",
      "metadata": {
        "id": "ZDlbgijoYZfz"
      },
      "source": [
        "## Load Data\n",
        "\n",
        "The Keras deep learning library provides a convenience method for loading the MNIST dataset."
      ]
    },
    {
      "cell_type": "code",
      "source": [
        "# Import necessary libraries\n",
        "from keras.datasets import mnist\n",
        "import matplotlib.pyplot as plt\n",
        "import numpy as np\n",
        "from keras.models import Sequential\n",
        "from keras.layers import Dense, Dropout, Flatten, Conv2D, MaxPooling2D\n",
        "from keras.utils import to_categorical\n",
        "from keras import backend as K\n",
        "from sklearn.metrics import classification_report, confusion_matrix\n",
        "import seaborn as sns\n",
        "\n",
        "# Set image data format\n",
        "K.set_image_data_format('channels_last')\n",
        "\n",
        "# Fix random seed for reproducibility\n",
        "seed = 7\n",
        "np.random.seed(seed)\n",
        "\n",
        "# Load and preprocess the data\n",
        "(X_train, y_train), (X_test, y_test) = mnist.load_data()\n",
        "\n",
        "# Visualize sample images\n",
        "plt.figure(figsize=(6, 6))\n",
        "for i in range(4):\n",
        "    plt.subplot(2, 2, i+1)\n",
        "    plt.imshow(X_train[i], cmap='gray')\n",
        "    plt.title(f\"Digit: {y_train[i]}\")\n",
        "    plt.axis('off')\n",
        "plt.show()\n",
        "\n",
        "# Reshape data to 'NHWC' format\n",
        "X_train = X_train.reshape(X_train.shape[0], 28, 28, 1).astype('float32')\n",
        "X_test = X_test.reshape(X_test.shape[0], 28, 28, 1).astype('float32')\n",
        "\n",
        "# Normalize the data\n",
        "X_train /= 255\n",
        "X_test /= 255\n",
        "\n",
        "# One-hot encode target values\n",
        "y_train = to_categorical(y_train)\n",
        "y_test = to_categorical(y_test)\n",
        "num_classes = y_test.shape[1]\n",
        "\n",
        "# Define CNN model\n",
        "def cnn_model():\n",
        "    model = Sequential()\n",
        "    model.add(Conv2D(32, (5, 5), activation='relu', padding='same', input_shape=(28, 28, 1)))\n",
        "    model.add(MaxPooling2D(pool_size=(2, 2)))\n",
        "    model.add(Dropout(0.2))\n",
        "    model.add(Flatten())\n",
        "    model.add(Dense(128, activation='relu'))\n",
        "    model.add(Dense(num_classes, activation='softmax'))\n",
        "    model.compile(loss='categorical_crossentropy', optimizer='adam', metrics=['accuracy'])\n",
        "    return model\n",
        "\n",
        "# Build and fit the model\n",
        "model = cnn_model()\n",
        "history = model.fit(X_train, y_train, validation_data=(X_test, y_test), epochs=10, batch_size=200, verbose=2)\n",
        "\n",
        "# Evaluate the model\n",
        "scores = model.evaluate(X_test, y_test, verbose=0)\n",
        "print(\"Accuracy: %.2f%%\" % (scores[1] * 100))\n",
        "print(\"Baseline Error: %.2f%%\" % (100 - scores[1] * 100))\n",
        "\n",
        "# Additional Visualizations and Statistical Analysis\n",
        "\n",
        "# Plot training & validation accuracy\n",
        "plt.figure(figsize=(8, 4))\n",
        "plt.plot(history.history['accuracy'], label='Train Accuracy')\n",
        "plt.plot(history.history['val_accuracy'], label='Validation Accuracy')\n",
        "plt.title('Model Accuracy')\n",
        "plt.xlabel('Epoch')\n",
        "plt.ylabel('Accuracy')\n",
        "plt.legend()\n",
        "plt.show()\n",
        "\n",
        "# Plot training & validation loss\n",
        "plt.figure(figsize=(8, 4))\n",
        "plt.plot(history.history['loss'], label='Train Loss')\n",
        "plt.plot(history.history['val_loss'], label='Validation Loss')\n",
        "plt.title('Model Loss')\n",
        "plt.xlabel('Epoch')\n",
        "plt.ylabel('Loss')\n",
        "plt.legend()\n",
        "plt.show()\n",
        "\n",
        "# Confusion Matrix\n",
        "y_pred = np.argmax(model.predict(X_test), axis=1)\n",
        "y_test_classes = np.argmax(y_test, axis=1)\n",
        "conf_matrix = confusion_matrix(y_test_classes, y_pred)\n",
        "\n",
        "plt.figure(figsize=(10, 8))\n",
        "sns.heatmap(conf_matrix, annot=True, fmt='d', cmap='Blues', xticklabels=range(10), yticklabels=range(10))\n",
        "plt.title('Confusion Matrix')\n",
        "plt.xlabel('Predicted Label')\n",
        "plt.ylabel('True Label')\n",
        "plt.show()\n",
        "\n",
        "# Classification Report\n",
        "print(\"Classification Report:\")\n",
        "print(classification_report(y_test_classes, y_pred))\n"
      ],
      "metadata": {
        "colab": {
          "base_uri": "https://localhost:8080/",
          "height": 1000
        },
        "id": "jhHND2mRbvhl",
        "outputId": "ddd7738d-9d4c-4dca-99fa-f32c80e8d762"
      },
      "execution_count": null,
      "outputs": [
        {
          "output_type": "display_data",
          "data": {
            "text/plain": [
              "<Figure size 600x600 with 4 Axes>"
            ],
            "image/png": "[encoded data removed]"
          },
          "metadata": {}
        },
        {
          "output_type": "stream",
          "name": "stdout",
          "text": [
            "Epoch 1/10\n",
            "300/300 - 57s - 189ms/step - accuracy: 0.9302 - loss: 0.2409 - val_accuracy: 0.9768 - val_loss: 0.0778\n",
            "Epoch 2/10\n",
            "300/300 - 83s - 275ms/step - accuracy: 0.9783 - loss: 0.0714 - val_accuracy: 0.9831 - val_loss: 0.0483\n",
            "Epoch 3/10\n",
            "300/300 - 83s - 275ms/step - accuracy: 0.9839 - loss: 0.0513 - val_accuracy: 0.9837 - val_loss: 0.0474\n",
            "Epoch 4/10\n",
            "300/300 - 78s - 261ms/step - accuracy: 0.9877 - loss: 0.0395 - val_accuracy: 0.9864 - val_loss: 0.0404\n",
            "Epoch 5/10\n",
            "300/300 - 83s - 276ms/step - accuracy: 0.9903 - loss: 0.0317 - val_accuracy: 0.9867 - val_loss: 0.0391\n",
            "Epoch 6/10\n",
            "300/300 - 52s - 173ms/step - accuracy: 0.9919 - loss: 0.0262 - val_accuracy: 0.9892 - val_loss: 0.0328\n",
            "Epoch 7/10\n",
            "300/300 - 53s - 178ms/step - accuracy: 0.9930 - loss: 0.0221 - val_accuracy: 0.9892 - val_loss: 0.0349\n",
            "Epoch 8/10\n",
            "300/300 - 81s - 271ms/step - accuracy: 0.9942 - loss: 0.0192 - val_accuracy: 0.9894 - val_loss: 0.0307\n",
            "Epoch 9/10\n",
            "300/300 - 82s - 273ms/step - accuracy: 0.9951 - loss: 0.0153 - val_accuracy: 0.9898 - val_loss: 0.0299\n",
            "Epoch 10/10\n",
            "300/300 - 81s - 270ms/step - accuracy: 0.9958 - loss: 0.0134 - val_accuracy: 0.9891 - val_loss: 0.0347\n",
            "Accuracy: 98.91%\n",
            "Baseline Error: 1.09%\n"
          ]
        },
        {
          "output_type": "display_data",
          "data": {
            "text/plain": [
              "<Figure size 800x400 with 1 Axes>"
            ],
            "image/png": "[encoded data removed]"
          },
          "metadata": {}
        },
        {
          "output_type": "display_data",
          "data": {
            "text/plain": [
              "<Figure size 800x400 with 1 Axes>"
            ],
            "image/png": "[encoded data removed]"
          },
          "metadata": {}
        },
        {
          "output_type": "stream",
          "name": "stdout",
          "text": [
            "\u001b[1m313/313\u001b[0m \u001b[32m━━━━━━━━━━━━━━━━━━━━\u001b[0m\u001b[37m\u001b[0m \u001b[1m5s\u001b[0m 15ms/step\n"
          ]
        },
        {
          "output_type": "display_data",
          "data": {
            "text/plain": [
              "<Figure size 1000x800 with 2 Axes>"
            ],
            "image/png": "[encoded data removed]"
          },
          "metadata": {}
        },
        {
          "output_type": "stream",
          "name": "stdout",
          "text": [
            "Classification Report:\n",
            "              precision    recall  f1-score   support\n",
            "\n",
            "           0       0.99      0.99      0.99       980\n",
            "           1       1.00      1.00      1.00      1135\n",
            "           2       0.98      1.00      0.99      1032\n",
            "           3       0.99      0.99      0.99      1010\n",
            "           4       0.99      0.99      0.99       982\n",
            "           5       0.99      0.99      0.99       892\n",
            "           6       0.98      0.99      0.99       958\n",
            "           7       0.99      0.99      0.99      1028\n",
            "           8       0.99      0.97      0.98       974\n",
            "           9       0.99      0.99      0.99      1009\n",
            "\n",
            "    accuracy                           0.99     10000\n",
            "   macro avg       0.99      0.99      0.99     10000\n",
            "weighted avg       0.99      0.99      0.99     10000\n",
            "\n"
          ]
        }
      ]
    },
    {
      "cell_type": "markdown",
      "metadata": {
        "id": "hASs0jTJYZf1"
      },
      "source": [
        "## Baseline Model with Multi-Layer Perceptrons\n",
        "\n",
        "Do we really need a complex model like a convolutional neural network to get the best results with MNIST?\n",
        "\n",
        "You can get very good results using a very simple neural network model with a single hidden layer. In this section we will create a simple multi-layer perceptron model that achieves an error rate of 1.80%. We will use this as a baseline for comparing more complex convolutional neural network models."
      ]
    },
    {
      "cell_type": "code",
      "execution_count": null,
      "metadata": {
        "id": "Sv5PaczFYZf2"
      },
      "outputs": [],
      "source": [
        "import numpy\n",
        "from keras.datasets import mnist\n",
        "from keras.models import Sequential\n",
        "from keras.layers import Dense\n",
        "from keras.layers import Dropout\n",
        "from keras.utils import np_utils\n",
        "\n",
        "# fix random seed for reproducibility\n",
        "seed = 7\n",
        "numpy.random.seed(seed)\n",
        "\n",
        "# load data\n",
        "(X_train, y_train), (X_test, y_test) = mnist.load_data()"
      ]
    },
    {
      "cell_type": "markdown",
      "metadata": {
        "id": "0xzDeldWYZf2"
      },
      "source": [
        "The training dataset is structured as a 3-dimensional array of instance, image width and image height. For a multi-layer perceptron model we must reduce the images down into a vector of pixels. In this case the 28×28 sized images will be 784 pixel input values.\n",
        "\n",
        "We can do this transform easily using the [reshape() function](https://docs.scipy.org/doc/numpy-1.10.1/reference/generated/numpy.reshape.html) on the NumPy array. We can also reduce our memory requirements by forcing the precision of the pixel values to be 32 bit, the default precision used by Keras anyway."
      ]
    },
    {
      "cell_type": "code",
      "execution_count": null,
      "metadata": {
        "collapsed": true,
        "id": "6r2pMExEYZf3"
      },
      "outputs": [],
      "source": [
        "# flatten 28*28 images to a 784 vector for each image\n",
        "num_pixels = X_train.shape[1] * X_train.shape[2]\n",
        "X_train = X_train.reshape(X_train.shape[0], num_pixels).astype('float32')\n",
        "X_test = X_test.reshape(X_test.shape[0], num_pixels).astype('float32')"
      ]
    },
    {
      "cell_type": "markdown",
      "metadata": {
        "id": "EHnEug12YZf3"
      },
      "source": [
        "The pixel values are gray scale between 0 and 255. It is almost always a good idea to perform some scaling of input values when using neural network models. Because the scale is well known and well behaved, we can very quickly normalize the pixel values to the range 0 and 1 by dividing each value by the maximum of 255."
      ]
    },
    {
      "cell_type": "code",
      "execution_count": null,
      "metadata": {
        "collapsed": true,
        "id": "_njH6dPdYZf4"
      },
      "outputs": [],
      "source": [
        "# normalize inputs from 0-255 to 0-1\n",
        "X_train = X_train / 255\n",
        "X_test = X_test / 255"
      ]
    },
    {
      "cell_type": "markdown",
      "metadata": {
        "id": "fq8ThH4nYZf4"
      },
      "source": [
        "Finally, the output variable is an integer from 0 to 9. This is a multi-class classification problem. As such, it is good practice to use a one hot encoding of the class values, transforming the vector of class integers into a binary matrix.\n",
        "\n",
        "We can easily do this using the built-in np_utils.to_categorical() helper function in Keras."
      ]
    },
    {
      "cell_type": "code",
      "execution_count": null,
      "metadata": {
        "collapsed": true,
        "id": "yZWpQU5PYZf4"
      },
      "outputs": [],
      "source": [
        "# one hot encode outputs\n",
        "y_train = np_utils.to_categorical(y_train)\n",
        "y_test = np_utils.to_categorical(y_test)\n",
        "num_classes = y_test.shape[1]"
      ]
    },
    {
      "cell_type": "markdown",
      "metadata": {
        "id": "H0We78MtYZf5"
      },
      "source": [
        "We are now ready to create our simple neural network model. We will define our model in a function. This is handy if you want to extend the example later and try and get a better score."
      ]
    },
    {
      "cell_type": "code",
      "execution_count": null,
      "metadata": {
        "collapsed": true,
        "id": "IbBXMQvJYZf5"
      },
      "outputs": [],
      "source": [
        "# define baseline model\n",
        "def baseline_model():\n",
        "    # create model\n",
        "    model = Sequential()\n",
        "    model.add(Dense(num_pixels, input_dim=num_pixels, init='normal', activation='relu'))\n",
        "    model.add(Dense(num_classes, init='normal', activation='softmax'))\n",
        "    # Compile model\n",
        "    model.compile(loss='categorical_crossentropy', optimizer='adam', metrics=['accuracy'])\n",
        "    return model"
      ]
    },
    {
      "cell_type": "markdown",
      "metadata": {
        "id": "O28F5-VjYZf5"
      },
      "source": [
        "The model is a simple neural network with one hidden layer with the same number of neurons as there are inputs (784). A rectifier activation function is used for the neurons in the hidden layer.\n",
        "\n",
        "A softmax activation function is used on the output layer to turn the outputs into probability-like values and allow one class of the 10 to be selected as the model’s output prediction. Logarithmic loss is used as the loss function (called categorical_crossentropy in Keras) and the efficient ADAM gradient descent algorithm is used to learn the weights.\n",
        "\n",
        "We can now fit and evaluate the model. The model is fit over 10 epochs with updates every 200 images. The test data is used as the validation dataset, allowing you to see the skill of the model as it trains. A verbose value of 2 is used to reduce the output to one line for each training epoch.\n",
        "\n",
        "Finally, the test dataset is used to evaluate the model and a classification error rate is printed."
      ]
    },
    {
      "cell_type": "code",
      "execution_count": null,
      "metadata": {
        "id": "HN9ZiiAuYZf6",
        "outputId": "461f2662-2fc6-4bdb-aa55-9ba4ba003a49"
      },
      "outputs": [
        {
          "name": "stdout",
          "output_type": "stream",
          "text": [
            "Train on 60000 samples, validate on 10000 samples\n",
            "Epoch 1/10\n",
            "5s - loss: 0.2865 - acc: 0.9182 - val_loss: 0.1405 - val_acc: 0.9584\n",
            "Epoch 2/10\n",
            "4s - loss: 0.1129 - acc: 0.9670 - val_loss: 0.0937 - val_acc: 0.9714\n",
            "Epoch 3/10\n",
            "4s - loss: 0.0730 - acc: 0.9790 - val_loss: 0.0791 - val_acc: 0.9767\n",
            "Epoch 4/10\n",
            "4s - loss: 0.0515 - acc: 0.9852 - val_loss: 0.0740 - val_acc: 0.9776\n",
            "Epoch 5/10\n",
            "4s - loss: 0.0377 - acc: 0.9896 - val_loss: 0.0683 - val_acc: 0.9785\n",
            "Epoch 6/10\n",
            "4s - loss: 0.0271 - acc: 0.9927 - val_loss: 0.0621 - val_acc: 0.9807\n",
            "Epoch 7/10\n",
            "4s - loss: 0.0210 - acc: 0.9945 - val_loss: 0.0581 - val_acc: 0.9824\n",
            "Epoch 8/10\n",
            "4s - loss: 0.0137 - acc: 0.9972 - val_loss: 0.0600 - val_acc: 0.9811\n",
            "Epoch 9/10\n",
            "4s - loss: 0.0111 - acc: 0.9977 - val_loss: 0.0541 - val_acc: 0.9819\n",
            "Epoch 10/10\n",
            "4s - loss: 0.0083 - acc: 0.9986 - val_loss: 0.0594 - val_acc: 0.9820\n",
            "Baseline Error: 1.80%\n"
          ]
        }
      ],
      "source": [
        "# build the model\n",
        "model = baseline_model()\n",
        "# Fit the model\n",
        "model.fit(X_train, y_train, validation_data=(X_test, y_test), nb_epoch=10, batch_size=200, verbose=2)\n",
        "# Final evaluation of the model\n",
        "scores = model.evaluate(X_test, y_test, verbose=0)\n",
        "print(\"Baseline Error: %.2f%%\" % (100-scores[1]*100))"
      ]
    },
    {
      "cell_type": "markdown",
      "metadata": {
        "id": "XW8djPxnYZf6"
      },
      "source": [
        "Running the example might take a few minutes when run on a CPU. This very simple network defined in very few lines of code achieves a respectable error rate of 1.80%."
      ]
    },
    {
      "cell_type": "markdown",
      "metadata": {
        "id": "VcbNU2GnYZf6"
      },
      "source": [
        "## Simple Convolutional Neural Network for MNIST\n",
        "\n",
        "Now that we have seen how to load the MNIST dataset and train a simple multi-layer perceptron model on it, it is time to develop a more sophisticated convolutional neural network or CNN model.\n",
        "\n",
        "Keras does provide a lot of capability for creating [convolutional neural networks](https://keras.io/layers/convolutional/).\n",
        "\n",
        "In this section we will create a simple CNN for MNIST that demonstrates how to use all of the aspects of a modern CNN implementation, including Convolutional layers, Pooling layers and Dropout layers.\n",
        "\n",
        "The first step is to import the classes and functions needed."
      ]
    },
    {
      "cell_type": "code",
      "execution_count": null,
      "metadata": {
        "collapsed": true,
        "id": "gD62sk8SYZf7"
      },
      "outputs": [],
      "source": [
        "import numpy\n",
        "from keras.datasets import mnist\n",
        "from keras.models import Sequential\n",
        "from keras.layers import Dense\n",
        "from keras.layers import Dropout\n",
        "from keras.layers import Flatten\n",
        "from keras.layers.convolutional import Convolution2D\n",
        "from keras.layers.convolutional import MaxPooling2D\n",
        "from keras.utils import np_utils\n",
        "from keras import backend as K\n",
        "K.set_image_dim_ordering('th')\n",
        "\n",
        "# fix random seed for reproducibility\n",
        "seed = 7\n",
        "numpy.random.seed(seed)"
      ]
    },
    {
      "cell_type": "markdown",
      "metadata": {
        "collapsed": true,
        "id": "EBwda4_eYZf7"
      },
      "source": [
        "Next we need to load the MNIST dataset and reshape it so that it is suitable for use training a CNN. In Keras, the layers used for two-dimensional convolutions expect pixel values with the dimensions [pixels][width][height].\n",
        "\n",
        "In the case of RGB, the first dimension pixels would be 3 for the red, green and blue components and it would be like having 3 image inputs for every color image. In the case of MNIST where the pixel values are gray scale, the pixel dimension is set to 1."
      ]
    },
    {
      "cell_type": "code",
      "execution_count": null,
      "metadata": {
        "collapsed": true,
        "id": "f2TuA78DYZf7"
      },
      "outputs": [],
      "source": [
        "# load data\n",
        "(X_train, y_train), (X_test, y_test) = mnist.load_data()\n",
        "# reshape to be [samples][pixels][width][height]\n",
        "X_train = X_train.reshape(X_train.shape[0], 1, 28, 28).astype('float32')\n",
        "X_test = X_test.reshape(X_test.shape[0], 1, 28, 28).astype('float32')"
      ]
    },
    {
      "cell_type": "markdown",
      "metadata": {
        "id": "4crZ2YJMYZf7"
      },
      "source": [
        "As before, it is a good idea to normalize the pixel values to the range 0 and 1 and one hot encode the output variables."
      ]
    },
    {
      "cell_type": "code",
      "execution_count": null,
      "metadata": {
        "collapsed": true,
        "id": "Kt5Y_wNWYZf8"
      },
      "outputs": [],
      "source": [
        "# normalize inputs from 0-255 to 0-1\n",
        "X_train = X_train / 255\n",
        "X_test = X_test / 255\n",
        "# one hot encode outputs\n",
        "y_train = np_utils.to_categorical(y_train)\n",
        "y_test = np_utils.to_categorical(y_test)\n",
        "num_classes = y_test.shape[1]"
      ]
    },
    {
      "cell_type": "markdown",
      "metadata": {
        "id": "RcQfht1oYZf8"
      },
      "source": [
        "Next we define our neural network model.\n",
        "\n",
        "Convolutional neural networks are more complex than standard multi-layer perceptrons, so we will start by using a simple structure to begin with that uses all of the elements for state of the art results. Below summarizes the network architecture.\n",
        "\n",
        "1. The first hidden layer is a convolutional layer called a Convolution2D. The layer has 32 feature maps, which with the size of 5×5 and a rectifier activation function. This is the input layer, expecting images with the structure outline above [pixels][width][height].\n",
        "\n",
        "2. Next we define a pooling layer that takes the max called MaxPooling2D. It is configured with a pool size of 2×2.\n",
        "\n",
        "3. The next layer is a regularization layer using dropout called Dropout. It is configured to randomly exclude 20% of neurons in the layer in order to reduce overfitting.\n",
        "\n",
        "4. Next is a layer that converts the 2D matrix data to a vector called Flatten. It allows the output to be processed by standard fully connected layers.\n",
        "\n",
        "5. Next a fully connected layer with 128 neurons and rectifier activation function.\n",
        "\n",
        "6. Finally, the output layer has 10 neurons for the 10 classes and a softmax activation function to output probability-like predictions for each class.\n",
        "\n",
        "As before, the model is trained using logarithmic loss and the ADAM gradient descent algorithm."
      ]
    },
    {
      "cell_type": "code",
      "execution_count": null,
      "metadata": {
        "collapsed": true,
        "id": "8lQkz_cUYZf8"
      },
      "outputs": [],
      "source": [
        "def baseline_model():\n",
        "    # create model\n",
        "    model = Sequential()\n",
        "    model.add(Convolution2D(32, 5, 5, border_mode='valid', input_shape=(1, 28, 28), activation='relu'))\n",
        "    model.add(MaxPooling2D(pool_size=(2, 2)))\n",
        "    model.add(Dropout(0.2))\n",
        "    model.add(Flatten())\n",
        "    model.add(Dense(128, activation='relu'))\n",
        "    model.add(Dense(num_classes, activation='softmax'))\n",
        "    # Compile model\n",
        "    model.compile(loss='categorical_crossentropy', optimizer='adam', metrics=['accuracy'])\n",
        "    return model"
      ]
    },
    {
      "cell_type": "markdown",
      "metadata": {
        "id": "vy4QZbAOYZf9"
      },
      "source": [
        "We evaluate the model the same way as before with the multi-layer perceptron. The CNN is fit over 10 epochs with a batch size of 200."
      ]
    },
    {
      "cell_type": "code",
      "execution_count": null,
      "metadata": {
        "id": "sf-tW3gVYZf9",
        "outputId": "1088fdcd-5f5d-4d02-93c2-4c36f5722f2c"
      },
      "outputs": [
        {
          "name": "stdout",
          "output_type": "stream",
          "text": [
            "Train on 60000 samples, validate on 10000 samples\n",
            "Epoch 1/10\n",
            "86s - loss: 0.2538 - acc: 0.9279 - val_loss: 0.0860 - val_acc: 0.9750\n",
            "Epoch 2/10\n",
            "82s - loss: 0.0766 - acc: 0.9770 - val_loss: 0.0601 - val_acc: 0.9802\n",
            "Epoch 3/10\n",
            "82s - loss: 0.0546 - acc: 0.9834 - val_loss: 0.0450 - val_acc: 0.9856\n",
            "Epoch 4/10\n",
            "82s - loss: 0.0419 - acc: 0.9873 - val_loss: 0.0360 - val_acc: 0.9880\n",
            "Epoch 5/10\n",
            "82s - loss: 0.0339 - acc: 0.9896 - val_loss: 0.0389 - val_acc: 0.9879\n",
            "Epoch 6/10\n",
            "81s - loss: 0.0286 - acc: 0.9909 - val_loss: 0.0324 - val_acc: 0.9897\n",
            "Epoch 7/10\n",
            "80s - loss: 0.0233 - acc: 0.9927 - val_loss: 0.0330 - val_acc: 0.9891\n",
            "Epoch 8/10\n",
            "83s - loss: 0.0186 - acc: 0.9938 - val_loss: 0.0316 - val_acc: 0.9894\n",
            "Epoch 9/10\n",
            "83s - loss: 0.0166 - acc: 0.9948 - val_loss: 0.0357 - val_acc: 0.9889\n",
            "Epoch 10/10\n",
            "82s - loss: 0.0143 - acc: 0.9957 - val_loss: 0.0322 - val_acc: 0.9902\n",
            "Baseline Error: 0.98%\n"
          ]
        }
      ],
      "source": [
        "# build the model\n",
        "model = baseline_model()\n",
        "# Fit the model\n",
        "model.fit(X_train, y_train, validation_data=(X_test, y_test), nb_epoch=10, batch_size=200, verbose=2)\n",
        "# Final evaluation of the model\n",
        "scores = model.evaluate(X_test, y_test, verbose=0)\n",
        "print(\"Baseline Error: %.2f%%\" % (100-scores[1]*100))"
      ]
    },
    {
      "cell_type": "markdown",
      "metadata": {
        "id": "2OpHQuUcYZf9"
      },
      "source": [
        "Running the example, the accuracy on the training and validation test is printed each epoch and at the end of the classification error rate is printed.\n",
        "\n",
        "Epochs may take 60 to 90 seconds to run on the CPU, or about 15 minutes in total depending on your hardware. You can see that the network achieves an error rate of 0.98, which is better than our simple multi-layer perceptron model above."
      ]
    },
    {
      "cell_type": "markdown",
      "metadata": {
        "id": "qAFuWEF9YZf-"
      },
      "source": [
        "## Larger Convolutional Neural Network for MNIST\n",
        "\n",
        "Now that we have seen how to create a simple CNN, let’s take a look at a model capable of close to state of the art results.\n",
        "\n",
        "We import classes and function then load and prepare the data the same as in the previous CNN example."
      ]
    },
    {
      "cell_type": "code",
      "execution_count": null,
      "metadata": {
        "collapsed": true,
        "id": "kyrc9sRNYZf-"
      },
      "outputs": [],
      "source": [
        "import numpy\n",
        "from keras.datasets import mnist\n",
        "from keras.models import Sequential\n",
        "from keras.layers import Dense\n",
        "from keras.layers import Dropout\n",
        "from keras.layers import Flatten\n",
        "from keras.layers.convolutional import Convolution2D\n",
        "from keras.layers.convolutional import MaxPooling2D\n",
        "from keras.utils import np_utils\n",
        "from keras import backend as K\n",
        "K.set_image_dim_ordering('th')\n",
        "\n",
        "# fix random seed for reproducibility\n",
        "seed = 7\n",
        "numpy.random.seed(seed)\n",
        "\n",
        "# load data\n",
        "(X_train, y_train), (X_test, y_test) = mnist.load_data()\n",
        "# reshape to be [samples][pixels][width][height]\n",
        "X_train = X_train.reshape(X_train.shape[0], 1, 28, 28).astype('float32')\n",
        "X_test = X_test.reshape(X_test.shape[0], 1, 28, 28).astype('float32')\n",
        "\n",
        "# normalize inputs from 0-255 to 0-1\n",
        "X_train = X_train / 255\n",
        "X_test = X_test / 255\n",
        "# one hot encode outputs\n",
        "y_train = np_utils.to_categorical(y_train)\n",
        "y_test = np_utils.to_categorical(y_test)\n",
        "num_classes = y_test.shape[1]"
      ]
    },
    {
      "cell_type": "markdown",
      "metadata": {
        "id": "bdA6ZcOXYZf-"
      },
      "source": [
        "This time we define a large CNN architecture with additional convolutional, max pooling layers and fully connected layers. The network topology can be summarized as follows.\n",
        "\n",
        "1. Convolutional layer with 30 feature maps of size 5×5.\n",
        "2. Pooling layer taking the max over 2*2 patches.\n",
        "3. Convolutional layer with 15 feature maps of size 3×3.\n",
        "4. Pooling layer taking the max over 2*2 patches.\n",
        "5. Dropout layer with a probability of 20%.\n",
        "6. Flatten layer.\n",
        "7. Fully connected layer with 128 neurons and rectifier activation.\n",
        "8. Fully connected layer with 50 neurons and rectifier activation.\n",
        "9. Output layer."
      ]
    },
    {
      "cell_type": "code",
      "execution_count": null,
      "metadata": {
        "collapsed": true,
        "id": "Jil-5rDeYZf-"
      },
      "outputs": [],
      "source": [
        "def larger_model():\n",
        "    # create model\n",
        "    model = Sequential()\n",
        "    model.add(Convolution2D(30, 5, 5, border_mode='valid', input_shape=(1, 28, 28), activation='relu'))\n",
        "    model.add(MaxPooling2D(pool_size=(2, 2)))\n",
        "    model.add(Convolution2D(15, 3, 3, activation='relu'))\n",
        "    model.add(MaxPooling2D(pool_size=(2, 2)))\n",
        "    model.add(Dropout(0.2))\n",
        "    model.add(Flatten())\n",
        "    model.add(Dense(128, activation='relu'))\n",
        "    model.add(Dense(50, activation='relu'))\n",
        "    model.add(Dense(num_classes, activation='softmax'))\n",
        "    # Compile model\n",
        "    model.compile(loss='categorical_crossentropy', optimizer='adam', metrics=['accuracy'])\n",
        "    return model"
      ]
    },
    {
      "cell_type": "markdown",
      "metadata": {
        "id": "pATc3t0CYZf_"
      },
      "source": [
        "Like the previous two experiments, the model is fit over 10 epochs with a batch size of 200."
      ]
    },
    {
      "cell_type": "code",
      "execution_count": null,
      "metadata": {
        "id": "bNGQyHNEYZf_",
        "outputId": "e7c42de7-1a7a-4fa3-e0dc-71c67dc79036"
      },
      "outputs": [
        {
          "name": "stdout",
          "output_type": "stream",
          "text": [
            "Train on 60000 samples, validate on 10000 samples\n",
            "Epoch 1/10\n",
            "89s - loss: 0.3905 - acc: 0.8782 - val_loss: 0.0822 - val_acc: 0.9746\n",
            "Epoch 2/10\n",
            "88s - loss: 0.1010 - acc: 0.9700 - val_loss: 0.0517 - val_acc: 0.9817\n",
            "Epoch 3/10\n",
            "88s - loss: 0.0746 - acc: 0.9766 - val_loss: 0.0435 - val_acc: 0.9863\n",
            "Epoch 4/10\n",
            "88s - loss: 0.0616 - acc: 0.9806 - val_loss: 0.0374 - val_acc: 0.9872\n",
            "Epoch 5/10\n",
            "88s - loss: 0.0522 - acc: 0.9838 - val_loss: 0.0306 - val_acc: 0.9903\n",
            "Epoch 6/10\n",
            "88s - loss: 0.0458 - acc: 0.9865 - val_loss: 0.0332 - val_acc: 0.9897\n",
            "Epoch 7/10\n",
            "88s - loss: 0.0421 - acc: 0.9870 - val_loss: 0.0302 - val_acc: 0.9906\n",
            "Epoch 8/10\n",
            "1923s - loss: 0.0391 - acc: 0.9877 - val_loss: 0.0304 - val_acc: 0.9903\n",
            "Epoch 9/10\n",
            "93s - loss: 0.0356 - acc: 0.9886 - val_loss: 0.0271 - val_acc: 0.9909\n",
            "Epoch 10/10\n",
            "89s - loss: 0.0315 - acc: 0.9899 - val_loss: 0.0287 - val_acc: 0.9913\n",
            "Baseline Error: 0.87%\n"
          ]
        }
      ],
      "source": [
        "# build the model\n",
        "model = larger_model()\n",
        "# Fit the model\n",
        "model.fit(X_train, y_train, validation_data=(X_test, y_test), nb_epoch=10, batch_size=200, verbose=2)\n",
        "# Final evaluation of the model\n",
        "scores = model.evaluate(X_test, y_test, verbose=0)\n",
        "print(\"Baseline Error: %.2f%%\" % (100-scores[1]*100))"
      ]
    },
    {
      "cell_type": "markdown",
      "metadata": {
        "collapsed": true,
        "id": "o478isU_YZf_"
      },
      "source": [
        "Running the example prints accuracy on the training and validation datasets each epoch and a final classification error rate.\n",
        "\n",
        "The model takes about 100 seconds to run per epoch. This slightly larger model achieves the respectable classification error rate of 0.87%."
      ]
    },
    {
      "cell_type": "markdown",
      "metadata": {
        "id": "9zits-FKYZf_"
      },
      "source": [
        "This is not an optimized network topology. Nor is a reproduction of a network topology from a recent paper. There is a lot of opportunity for you to tune and improve upon this model."
      ]
    }
  ],
  "metadata": {
    "anaconda-cloud": {},
    "kernelspec": {
      "display_name": "Python [tensorflow]",
      "language": "python",
      "name": "Python [tensorflow]"
    },
    "language_info": {
      "codemirror_mode": {
        "name": "ipython",
        "version": 2
      },
      "file_extension": ".py",
      "mimetype": "text/x-python",
      "name": "python",
      "nbconvert_exporter": "python",
      "pygments_lexer": "ipython2",
      "version": "2.7.12"
    },
    "colab": {
      "provenance": []
    }
  },
  "nbformat": 4,
  "nbformat_minor": 0
}